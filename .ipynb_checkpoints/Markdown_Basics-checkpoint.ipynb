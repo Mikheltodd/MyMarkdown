{
 "cells": [
  {
   "cell_type": "markdown",
   "id": "5e69ea62",
   "metadata": {},
   "source": [
    "# Introduction\n",
    "\n",
    "If you are looking for a simple way to create visually appealing text documents without using any fancy editors, check out [Markdown](https://en.wikipedia.org/wiki/Markdown). Invented by John Gruber and Aaron Swartz in 2004, Markdown provides a lightweight syntax to style any text document so that it can be converted to [HTML](https://developer.mozilla.org/en-US/docs/Learn/Getting_started_with_the_web/HTML_basics) for viewing and publishing.\n",
    "\n",
    "## Differences between HTML and Markdown\n",
    "\n",
    "Markdown translates to HTML, but Markdown is not a replacement for HTML. Markdown’s syntax can be converted to a small subset of HTML tags to do things like format text, add links, display images, and more. You can even incorporate HTML elements inside a Markdown document. To render Markdown in HTML, though, you would need a tool called a Markdown parser (more about this parser later on).\n",
    "\n",
    "## Benefits of Using Markdown\n",
    "\n",
    "Why would you use Markdown? Compared to HTML, writing text in Markdown is much faster because the syntax is simpler. The [authors of Markdown](https://daringfireball.net/projects/markdown/) intended Markdown to be a language for writing styled text with syntax that is just as easy to read as it is to write. "
   ]
  },
  {
   "cell_type": "markdown",
   "id": "5fbca444",
   "metadata": {},
   "source": [
    "Title of My Document\n",
    "=================\n",
    "\n",
    "A row of equal signs (`=`) to produce a first-level header, also known as `<h1>`. "
   ]
  },
  {
   "cell_type": "markdown",
   "id": "43783e13",
   "metadata": {},
   "source": [
    "Sub.Title of My Document\n",
    "-------------------------------------\n",
    "\n",
    "We could use a row of hyphens (`-`),to produce a second-level header, also known as `<h2>`:"
   ]
  },
  {
   "cell_type": "markdown",
   "id": "fdb67e84",
   "metadata": {},
   "source": [
    "# Title of My Document\n",
    "Alternatively, you can format headings using the `#` character. "
   ]
  },
  {
   "cell_type": "markdown",
   "id": "fd5189c1",
   "metadata": {},
   "source": [
    "My Todo List\n",
    "============\n",
    " \n",
    "At the end of this **week**, I plan to:\n",
    " \n",
    "1. Learn Markdown\n",
    "2. Write Markdown\n",
    "3. Share a Markdown note\n",
    " \n",
    "My favorite quote is:\n",
    " > If you didn't get it the first time\\\n",
    " > Do not despair\\\n",
    " > Try and try again\\\n",
    " > ~ Anonymous"
   ]
  },
  {
   "cell_type": "markdown",
   "id": "82e748f5",
   "metadata": {},
   "source": [
    "## When to Use Markdown\n",
    "\n",
    "After knowing the many benefits of Markdown, you might want to consider using Markdown if you ever find yourself in any of these scenarios:\n",
    "\n",
    "* The only editor available to you supports just plain text.\n",
    "* Time is of the essence and you can’t afford to learn how to use an unfamiliar rich-text editor.\n",
    "* You need to quickly outline your ideas in a structured but presentable manner.\n",
    "* You want your document to be portable so that it can convert to HTML, PDF, EPUB, and/or MOBI.\n"
   ]
  },
  {
   "cell_type": "markdown",
   "id": "ceb27ce8",
   "metadata": {},
   "source": [
    "## Markdown Document Extension\n",
    "\n",
    "Contrary to popular belief, Markdown is not a document format. Therefore, it doesn’t require a strict file extension naming convention, such as .md. As the [official Markdown mailing list](https://superuser.com/questions/249436/file-extension-for-markdown-files) explains, Markdown isn’t meant to take over the format of a file. Any file extension that you would normally use to name your text document such as .txt or .text is appropriate. However, organizations such as [GitHub](https://guides.github.com/features/mastering-markdown/) have a preference to expect Markdown documents to appear with an .md or .markdown extension."
   ]
  },
  {
   "cell_type": "markdown",
   "id": "c9506241",
   "metadata": {},
   "source": [
    "## Markdown Applications\n",
    "\n",
    "Since Markdown has gained a lot of popularity, you will find Markdown content being accepted in many applications.\n",
    "\n",
    "* Website publishers that accept Markdown content include [Wordpress.com](https://wordpress.com/support/wordpress-editor/blocks/markdown-block/), [Ghost](https://www.markdownguide.org/tools/ghost/) and [BeakerBrowser](https://docs.beakerbrowser.com/). Tools such as [Jekyll](https://www.markdownguide.org/tools/jekyll/), [Docusaurus](https://www.markdownguide.org/tools/docusaurus/) and [MkDocs](https://www.markdownguide.org/tools/mkdocs/) can convert Markdown documents into a static website geared for technical documentation. Take a look at this [page](https://daringfireball.net/projects/markdown/basics) rendered in HTML, and its text [source](https://daringfireball.net/projects/markdown/basics.text) styled in Markdown.\n",
    "\n",
    "* Book publishers such as [LeanHub](http://help.leanpub.com/en/articles/2941344-leanpub-flavoured-markdown-vs-markua-for-writing-in-plain-text) accepts Markdown manuscripts and convert them to books for publication.\n",
    "\n",
    "* Slide-show presentations such as [Remark](https://remarkjs.com/#1) and [Cleaver](https://jdan.github.io/cleaver/#2) can convert Markdown slides into HTML for web viewing.\n"
   ]
  },
  {
   "cell_type": "markdown",
   "id": "caef1bfb",
   "metadata": {},
   "source": [
    "## The Markdown Parser\n",
    "\n",
    "A Markdown parser is software written to parse the Markdown syntax in a text document and convert it to HTML syntax. The original Markdown parser was written in Perl, but you can find parser [implementations](https://github.com/markdown/markdown.github.com/wiki/Implementations) today in almost any programming language. Regardless, a basic Markdown parser should support the [core Markdown syntax](https://daringfireball.net/projects/markdown/basics): paragraphs, headers, blockquotes, phrase emphasis, lists, code, images, and links.\n",
    "\n",
    "There are Markdown parsers that are freely available on the Web: [StackEdit.io](https://stackedit.io/app#), [Dillinger](https://dillinger.io/), [Parse](https://parsedown.org/demo) and [Markdown to HTML Converter](https://markdowntohtml.com/). In addition to parsing and rendering, both Parse and Markdown to HTML Converter also convert the Markdown document to raw HTML so that you can copy and paste the HTML to be used elsewhere."
   ]
  },
  {
   "cell_type": "markdown",
   "id": "196c5483",
   "metadata": {},
   "source": [
    "Markdown Tutorial\n",
    "==============="
   ]
  },
  {
   "cell_type": "markdown",
   "id": "3c1a96b7",
   "metadata": {},
   "source": [
    "Headings\n",
    "-------------\n",
    "\n",
    "You can simulate a `<h1>` HTML tag with a `#` Markdown symbol. Since there are six heading tags for HTML, from `<h1>` through `<h6>`, you can simulate this with `#` through `######` in Markdown:\n",
    "\n",
    "# This is a H1 heading\n",
    "## This is a H2 heading\n",
    "### This is a H3 heading\n",
    "#### This is a H4 heading\n",
    "##### This is a H5 heading\n",
    "###### This is a H6 heading"
   ]
  },
  {
   "cell_type": "markdown",
   "id": "2a2ed1f2",
   "metadata": {},
   "source": [
    "Lists\n",
    "-------\n",
    "\n",
    "In addition to numbered lists, you can style a bulleted list too. There are three different symbols you can use to mark a line item as a bullet: asterisk (`*`), plus sign (`+`), or hyphen (`-`):\n",
    "\n",
    "* Markdown\n",
    "+ HTML\n",
    "- XML\n",
    "\n",
    "For best practice, it is recommended to use the same marker throughout your list instead of mixing them like above.\n",
    "\n",
    "The core Markdown syntax does not include nested lists (list within another list), but it allows adding paragraphs between list items. To do so, you need to add a blank line after a list item and indent 4 spaces or 1 tab before starting a paragraph. Some parsers are lenient and do not enforce 4 spaces but there should be some spacing.\n",
    "\n",
    "* Markdown\n",
    "    * Markdown is a lightweight markup language for styling text.\n",
    " \n",
    "* HTML\n",
    "    * HTML stands for HyperText Markup Language.\n",
    "    \n",
    "---    \n",
    "For more examples of basic syntax, check out [CommonMark’s reference guide](https://commonmark.org/help/)\n"
   ]
  },
  {
   "cell_type": "markdown",
   "id": "ef9e8e4e",
   "metadata": {},
   "source": [
    "## The Markdown Flavors\n",
    "\n",
    "Because the core Markdown language supports only a subset of HTML features, many independent developers have extended the Markdown syntax to incorporate more HTML compatibilities and customize it for their own organizations. Here are a few popular flavors of Markdown:\n",
    "\n",
    "* [CommonMark](https://commonmark.org/) is a body of special-interest developers who work side-by-side on a proposal to standardize the Markdown syntax and offer extensive test suites to validate Markdown implementations against this specification. This standard has been used by other developers to base their code upon.\n",
    "\n",
    "* GitHub Flavored Markup, or [GFM](https://github.github.com/gfm/) is GitHub’s expanded dialect of Markdown based on CommonMark and is used throughout the GitHub platform by its active community.\n",
    "\n",
    "* [Trello](https://help.trello.com/article/821-using-markdown-in-trello), a popular collaborative tool that organizes and tracks information through virtual boards and cards, implements a custom version of Markdown as well.\n"
   ]
  },
  {
   "cell_type": "markdown",
   "id": "0ff6f846",
   "metadata": {},
   "source": [
    "# Conclusion\n",
    "\n",
    "You’ve learned a lot about Markdown, specifically:\n",
    "\n",
    "* What Markdown is and how it differs from HTML\n",
    "* How you can benefit from Markdown\n",
    "* Where and when to apply Markdown in various scenarios\n",
    "* How to write Markdown to style your text and make it presentable\n",
    "* What a Markdown parser is and where to locate one\n",
    "* Where to find other flavors of Markdown that are used in industry\n",
    "\n",
    "Amazing job getting this far! Don’t be shy in applying Markdown in your next document. In fact, this article and many others like this on Codecademy were prepared using Markdown! See? We practice what we preach.\n",
    "\n"
   ]
  },
  {
   "cell_type": "markdown",
   "id": "edf8eea0",
   "metadata": {},
   "source": [
    "![Imagen de Prueba](./test_image.jpg)"
   ]
  },
  {
   "cell_type": "markdown",
   "id": "ff51645e",
   "metadata": {},
   "source": [
    "# References: \n",
    "\n",
    "* [Codecademy: What is Markdown?](https://www.codecademy.com/paths/full-stack-engineer-career-path/tracks/fscp-git-and-github-part-i/modules/fecp-learn-markdown/articles/what-is-markdown-article)\n",
    "* [Mastering Markdown](https://guides.github.com/features/mastering-markdown/)\n",
    "* [Markdown Cheatsheet](https://github.com/adam-p/markdown-here/wiki/Markdown-Cheatsheet)\n"
   ]
  },
  {
   "cell_type": "code",
   "execution_count": null,
   "id": "988b97f0",
   "metadata": {},
   "outputs": [],
   "source": []
  }
 ],
 "metadata": {
  "kernelspec": {
   "display_name": "Python 3",
   "language": "python",
   "name": "python3"
  },
  "language_info": {
   "codemirror_mode": {
    "name": "ipython",
    "version": 3
   },
   "file_extension": ".py",
   "mimetype": "text/x-python",
   "name": "python",
   "nbconvert_exporter": "python",
   "pygments_lexer": "ipython3",
   "version": "3.8.8"
  }
 },
 "nbformat": 4,
 "nbformat_minor": 5
}
